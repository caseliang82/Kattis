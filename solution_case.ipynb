{
 "cells": [
  {
   "cell_type": "markdown",
   "metadata": {},
   "source": [
    "# Hissing Microphone"
   ]
  },
  {
   "cell_type": "code",
   "execution_count": 1,
   "metadata": {},
   "outputs": [
    {
     "name": "stdout",
     "output_type": "stream",
     "text": [
      "hiss\n",
      "hiss\n"
     ]
    }
   ],
   "source": [
    "s = input()\n",
    "if \"ss\" in s:\n",
    "    print(\"hiss\")\n",
    "else:\n",
    "    print(\"no hiss\")"
   ]
  },
  {
   "cell_type": "markdown",
   "metadata": {},
   "source": [
    "# Dice Cup"
   ]
  },
  {
   "cell_type": "code",
   "execution_count": 69,
   "metadata": {
    "scrolled": true
   },
   "outputs": [
    {
     "name": "stdout",
     "output_type": "stream",
     "text": [
      "12 20\n",
      "13\n",
      "14\n",
      "15\n",
      "16\n",
      "17\n",
      "18\n",
      "19\n",
      "20\n",
      "21\n"
     ]
    }
   ],
   "source": [
    "a,b = map(int,input().split())\n",
    "\n",
    "if a==b:\n",
    "    print(a+1)\n",
    "else:\n",
    "    num_of_ans = abs(a-b)+1\n",
    "    start = min(a,b)+1\n",
    "    for i in range(start,start+num_of_ans):\n",
    "        print(i)"
   ]
  },
  {
   "cell_type": "markdown",
   "metadata": {},
   "source": [
    "# Aaah!"
   ]
  },
  {
   "cell_type": "code",
   "execution_count": 4,
   "metadata": {},
   "outputs": [
    {
     "name": "stdout",
     "output_type": "stream",
     "text": [
      "aaah\n",
      "ah\n",
      "go\n"
     ]
    }
   ],
   "source": [
    "a = len(input())\n",
    "b = len(input())\n",
    "\n",
    "if a => b: print(\"go\")\n",
    "else: print(\"no\")"
   ]
  },
  {
   "cell_type": "markdown",
   "metadata": {},
   "source": [
    "# All about that base"
   ]
  },
  {
   "cell_type": "code",
   "execution_count": 142,
   "metadata": {},
   "outputs": [
    {
     "name": "stdout",
     "output_type": "stream",
     "text": [
      "1\n",
      "1111111111 - 1111111 = 111\n",
      "1\n"
     ]
    }
   ],
   "source": [
    "num = int(input())\n",
    "inp=[]\n",
    "for z in range(num):\n",
    "    inp.append(input())\n",
    "\n",
    "inp = [str(a).split() for a in inp]\n",
    "# print(inp)\n",
    "digits = '0123456789abcdefghijklmnopqrstuvwxyz0'\n",
    "lens = len(inp)\n",
    "i=0\n",
    "for eqtn in inp:\n",
    "    i = i+1\n",
    "    smal_bs = max(map(lambda a: int(a,36),list(eqtn[0]+eqtn[2]+eqtn[4])))+1\n",
    "    if smal_bs == 2:\n",
    "        smal_bs = 1\n",
    "#     print(smal_bs)\n",
    "    base=\"\"\n",
    "    \n",
    "    for b in range(smal_bs, 37):\n",
    "        if b == 1:\n",
    "            x = str(len(eqtn[0]))\n",
    "            y = str(len(eqtn[2]))\n",
    "            z = len(eqtn[4])\n",
    "            if eval(x+eqtn[1]+y) == z and (eqtn[1]=='+' or eqtn[1]=='-'):\n",
    "                base = base + '1'\n",
    "#             base = base + digits[b]\n",
    "        else:\n",
    "            x = str(int(eqtn[0], b))\n",
    "            y = str(int(eqtn[2], b))\n",
    "            z = int(eqtn[4], b)\n",
    "            if eval(x+eqtn[1]+y) == z:\n",
    "\n",
    "                base = base + digits[b]\n",
    "    if base == \"\": print(\"invalid\")\n",
    "    else: print(base)\n",
    "    \n",
    "#     if i!=lens:print(\"\\n\")"
   ]
  },
  {
   "cell_type": "markdown",
   "metadata": {},
   "source": [
    "# Quick Estimates"
   ]
  },
  {
   "cell_type": "code",
   "execution_count": 2,
   "metadata": {},
   "outputs": [
    {
     "name": "stdout",
     "output_type": "stream",
     "text": [
      "1\n",
      "341\n",
      "3\n"
     ]
    }
   ],
   "source": [
    "N = int(input())\n",
    "priceList = []\n",
    "for i in range(N):\n",
    "    priceList.append(len(input()))\n",
    "\n",
    "for l in priceList:\n",
    "    print(l)"
   ]
  },
  {
   "cell_type": "markdown",
   "metadata": {},
   "source": [
    "# A New Alphabet"
   ]
  },
  {
   "cell_type": "code",
   "execution_count": 6,
   "metadata": {},
   "outputs": [
    {
     "data": {
      "text/plain": [
       "(97, 122)"
      ]
     },
     "execution_count": 6,
     "metadata": {},
     "output_type": "execute_result"
    }
   ],
   "source": [
    "ord('a'),ord('z')"
   ]
  },
  {
   "cell_type": "code",
   "execution_count": 32,
   "metadata": {},
   "outputs": [
    {
     "name": "stdout",
     "output_type": "stream",
     "text": [
      "What's the Frequency, Kenneth?\n",
      "\\/\\/[-]@'][''$ ']['[-]3 #|Z3(,)|_|3[]\\[](`/, |<3[]\\[][]\\[]3']['[-]?\n"
     ]
    }
   ],
   "source": [
    "s = input()\n",
    "s = list(s.lower())\n",
    "dic = [\"@\",\"8\",\"(\",\"|)\",\"3\",\"#\",\"6\",\"[-]\",\"|\",\"_|\",\"|<\",\"1\",\"[]\\/[]\",\n",
    "      \"[]\\[]\",\"0\",\"|D\",\"(,)\",\"|Z\",\"$\",\"']['\",\"|_|\",\"\\/\",\"\\/\\/\",\"}{\",\"`/\",\"2\"]\n",
    "output = \"\"\n",
    "for ch in s:\n",
    "    asci = ord(ch)\n",
    "    if 97 <= asci <= 122:\n",
    "        output+=dic[asci-97]\n",
    "    else:\n",
    "        output+=ch\n",
    "\n",
    "print (output)"
   ]
  },
  {
   "cell_type": "markdown",
   "metadata": {},
   "source": [
    "# Big Truck"
   ]
  },
  {
   "cell_type": "code",
   "execution_count": 33,
   "metadata": {},
   "outputs": [],
   "source": [
    "import sys"
   ]
  },
  {
   "cell_type": "code",
   "execution_count": 67,
   "metadata": {},
   "outputs": [
    {
     "name": "stdout",
     "output_type": "stream",
     "text": [
      "6\n",
      "1 1 2 3 1 0\n",
      "7\n",
      "1 2 2\n",
      "2 3 3\n",
      "3 6 4\n",
      "1 4 4\n",
      "4 3 2\n",
      "4 5 3\n",
      "5 6 2\n",
      "[]\n"
     ]
    }
   ],
   "source": [
    "# we use a breadth-first search to find the shortest path\n",
    "# than find the most of the items we can collect.\n",
    "def search(nol,noi,nor,rdwt):\n",
    "    explored = [[1]]\n",
    "    goal = nol\n",
    "    rdwt.sort()\n",
    "    path = []\n",
    "    \n",
    "    for expld in explored:\n",
    "        path = []\n",
    "        for rdw in rdwt:\n",
    "            if rdw[0] == expld[-1]:\n",
    "                path.append(expld+[rdw[1]])\n",
    "        explored = path\n",
    "    print(explored)\n",
    "        \n",
    "                \n",
    "    \n",
    "    \n",
    "    \n",
    "def main():\n",
    "    # prepare input\n",
    "    nol = int(input()) # number of locations in the city\n",
    "    noi = [int(n) for n in input().split()] # number of items on each location\n",
    "    nor = int(input()) # number of roads\n",
    "    rdwt = []\n",
    "    for i in range(nor):\n",
    "        rdwt.append([int(n) for n in input().split()])\n",
    "    \n",
    "#     print(rdwt)\n",
    "    # search all the path\n",
    "    shortestPath = search(nol,noi,nor,rdwt)\n",
    "\n",
    "main()\n"
   ]
  },
  {
   "cell_type": "code",
   "execution_count": 51,
   "metadata": {},
   "outputs": [
    {
     "name": "stdout",
     "output_type": "stream",
     "text": [
      "1\n",
      "2\n",
      "3\n"
     ]
    }
   ],
   "source": [
    "for i in map(int,'1 2 3'.split()):\n",
    "    print(i)"
   ]
  },
  {
   "cell_type": "code",
   "execution_count": 58,
   "metadata": {},
   "outputs": [],
   "source": [
    "a=[[1, 2, 2], [2, 3, 3], [3, 6, 4], [1, 4, 4], [4, 3, 2], [4, 5, 3], [5, 6, 2]]"
   ]
  },
  {
   "cell_type": "code",
   "execution_count": 63,
   "metadata": {},
   "outputs": [],
   "source": [
    "a.sort(key=lambda i:i[1])e"
   ]
  },
  {
   "cell_type": "code",
   "execution_count": 64,
   "metadata": {},
   "outputs": [
    {
     "data": {
      "text/plain": [
       "[[1, 2, 2], [2, 3, 3], [4, 3, 2], [1, 4, 4], [4, 5, 3], [3, 6, 4], [5, 6, 2]]"
      ]
     },
     "execution_count": 64,
     "metadata": {},
     "output_type": "execute_result"
    }
   ],
   "source": [
    "a"
   ]
  },
  {
   "cell_type": "code",
   "execution_count": 56,
   "metadata": {},
   "outputs": [
    {
     "data": {
      "text/plain": [
       "[1, 2, 3]"
      ]
     },
     "execution_count": 56,
     "metadata": {},
     "output_type": "execute_result"
    }
   ],
   "source": [
    "[int(s) for s in '1 2 3'.split()]"
   ]
  },
  {
   "cell_type": "code",
   "execution_count": 34,
   "metadata": {},
   "outputs": [
    {
     "name": "stdout",
     "output_type": "stream",
     "text": [
      "Untitled.ipynb\r\n"
     ]
    }
   ],
   "source": [
    "!ls"
   ]
  },
  {
   "cell_type": "code",
   "execution_count": 45,
   "metadata": {},
   "outputs": [],
   "source": [
    "samplePath=\"../kattis-2/sampleData/\""
   ]
  },
  {
   "cell_type": "code",
   "execution_count": 46,
   "metadata": {},
   "outputs": [
    {
     "data": {
      "text/plain": [
       "['6\\n',\n",
       " '1 1 2 3 1 0\\n',\n",
       " '7\\n',\n",
       " '1 2 2\\n',\n",
       " '2 3 3\\n',\n",
       " '3 6 4\\n',\n",
       " '1 4 4\\n',\n",
       " '4 3 2\\n',\n",
       " '4 5 3\\n',\n",
       " '5 6 2\\n']"
      ]
     },
     "execution_count": 46,
     "metadata": {},
     "output_type": "execute_result"
    }
   ],
   "source": [
    "open(samplePath+\"bigtruck/sample_1.in\", 'r').readlines()"
   ]
  },
  {
   "cell_type": "code",
   "execution_count": null,
   "metadata": {},
   "outputs": [],
   "source": []
  }
 ],
 "metadata": {
  "kernelspec": {
   "display_name": "Python 3",
   "language": "python",
   "name": "python3"
  },
  "language_info": {
   "codemirror_mode": {
    "name": "ipython",
    "version": 3
   },
   "file_extension": ".py",
   "mimetype": "text/x-python",
   "name": "python",
   "nbconvert_exporter": "python",
   "pygments_lexer": "ipython3",
   "version": "3.7.3"
  }
 },
 "nbformat": 4,
 "nbformat_minor": 2
}
